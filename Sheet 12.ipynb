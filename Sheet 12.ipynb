{
 "cells": [
  {
   "cell_type": "code",
   "execution_count": null,
   "metadata": {
    "collapsed": true
   },
   "outputs": [],
   "source": [
    "using PyPlot"
   ]
  },
  {
   "cell_type": "markdown",
   "metadata": {},
   "source": [
    "# Exercise 1 - Ising model"
   ]
  },
  {
   "cell_type": "code",
   "execution_count": null,
   "metadata": {},
   "outputs": [],
   "source": [
    "J = 1\n",
    "N = 14\n",
    "Ts = 0.1:0.1:5\n",
    "hs = [0.1, 0.2, 0.5, 1.0]\n",
    "\n",
    "for h in hs\n",
    "    ys = zeros(Ts)\n",
    "    \n",
    "    for (k, T) in enumerate(Ts)\n",
    "        partition_sum = zeros(2^N)\n",
    "        magnetizations = zeros(2^N)\n",
    "        for (i, c) in enumerate(0:(2^N - 1))\n",
    "            H = 0.\n",
    "            M = 0.\n",
    "            \n",
    "            for s in 1:N - 1\n",
    "                H += -J * (2 * (((c >>> (s - 1)) & 1) == ((c >>> s) & 1) ) - 1)\n",
    "            end\n",
    "\n",
    "            for s in 1:N\n",
    "                H += -h * (2 * ((c >>> (s - 1)) & 1) - 1)\n",
    "                M += 2 * ((c >>> (s - 1)) & 1) - 1\n",
    "            end\n",
    "            \n",
    "            partition_sum[i] = exp(-1./T * H)\n",
    "            magnetizations[i] = M\n",
    "        end\n",
    "        ys[k] = 1/sum(partition_sum) * sum(partition_sum .* magnetizations)\n",
    "    end\n",
    "    \n",
    "    plot(Ts, ys, label=\"h = $(h)\")    \n",
    "end\n",
    "legend()\n",
    "xlabel(\"temperature T\")\n",
    "ylabel(\"magnetization\")"
   ]
  },
  {
   "cell_type": "markdown",
   "metadata": {},
   "source": [
    "# Exercise 2 - Metropolis"
   ]
  },
  {
   "cell_type": "code",
   "execution_count": null,
   "metadata": {},
   "outputs": [],
   "source": [
    "calculate_energy(s, J, h) = -J * sum(s[1:end - 1] .* s[2:end]) - h * sum(s)\n",
    "calculate_weight(s, T, J, h) = exp(-1/T * calculate_energy(s, J, h))\n",
    "\n",
    "N = 14\n",
    "J = 1\n",
    "h = 0.1\n",
    "\n",
    "Ts = 0.1:0.1:5.0\n",
    "ys = zeros(Ts)\n",
    "\n",
    "spins = rand([-1, 1], N)\n",
    "\n",
    "sweeps = 1000\n",
    "magnetizations = zeros(sweeps)\n",
    "\n",
    "for (i, T) in enumerate(Ts)\n",
    "    for s in 1:sweeps\n",
    "        k = rand(1:N)\n",
    "        weight = calculate_weight(spins, T, J, h)\n",
    "        spins[k] *= -1\n",
    "        weight_prime = calculate_weight(spins, T, J, h)\n",
    "\n",
    "        if !(rand() < weight_prime / weight)\n",
    "            spins[k] *= -1\n",
    "        end\n",
    "\n",
    "        magnetizations[s] = sum(spins)\n",
    "    end\n",
    "    ys[i] = mean(magnetizations)\n",
    "end\n",
    "plot(Ts, ys)\n",
    "xlabel(\"temperature T\")\n",
    "ylabel(\"magnetization\")"
   ]
  },
  {
   "cell_type": "code",
   "execution_count": null,
   "metadata": {},
   "outputs": [],
   "source": [
    "J = 1\n",
    "h = 0.1\n",
    "N = 50\n",
    "\n",
    "Ts = 0.1:0.1:5.0\n",
    "ys = zeros(Ts)\n",
    "\n",
    "for sweeps in [1000, 4000, 16000, 640000]\n",
    "    spins = rand([-1, 1], N)\n",
    "    magnetizations = zeros(sweeps)\n",
    "\n",
    "\n",
    "    for (i, T) in enumerate(Ts)\n",
    "        for s in 1:sweeps\n",
    "            k = rand(1:N)\n",
    "            weight = calculate_weight(spins, T, J, h)\n",
    "            spins[k] *= -1\n",
    "            weight_prime = calculate_weight(spins, T, J, h)\n",
    "\n",
    "            if !(rand() < weight_prime / weight)\n",
    "                spins[k] *= -1\n",
    "            end\n",
    "\n",
    "            magnetizations[s] = sum(spins)\n",
    "        end\n",
    "        ys[i] = mean(magnetizations)\n",
    "    end\n",
    "    plot(Ts, ys, label=\"$(sweeps) Sweeps\")\n",
    "end\n",
    "legend()\n",
    "xlabel(\"temperature T\")\n",
    "ylabel(\"magnetization\")"
   ]
  },
  {
   "cell_type": "code",
   "execution_count": null,
   "metadata": {
    "collapsed": true
   },
   "outputs": [],
   "source": []
  }
 ],
 "metadata": {
  "kernelspec": {
   "display_name": "Julia 0.5.2",
   "language": "julia",
   "name": "julia-0.5"
  },
  "language_info": {
   "file_extension": ".jl",
   "mimetype": "application/julia",
   "name": "julia",
   "version": "0.5.2"
  }
 },
 "nbformat": 4,
 "nbformat_minor": 2
}
