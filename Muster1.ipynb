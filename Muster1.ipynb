{
 "cells": [
  {
   "cell_type": "markdown",
   "metadata": {},
   "source": [
    "# Aufgabe 1"
   ]
  },
  {
   "cell_type": "markdown",
   "metadata": {},
   "source": [
    "a)"
   ]
  },
  {
   "cell_type": "code",
   "execution_count": 5,
   "metadata": {
    "collapsed": false
   },
   "outputs": [
    {
     "name": "stdout",
     "output_type": "stream",
     "text": [
      "8.382332347441762\n",
      "4.787491742782046\n"
     ]
    }
   ],
   "source": [
    "M=5\n",
    "sum_wurzel=0\n",
    "sum_log=0\n",
    "for n in 1:M\n",
    "    sum_wurzel=sum_wurzel+sqrt(n)\n",
    "    sum_log=sum_log+log(n)\n",
    "end\n",
    "\n",
    "println(sum_wurzel)\n",
    "println(sum_log)"
   ]
  },
  {
   "cell_type": "markdown",
   "metadata": {},
   "source": [
    "b)"
   ]
  },
  {
   "cell_type": "code",
   "execution_count": 9,
   "metadata": {
    "collapsed": false
   },
   "outputs": [
    {
     "name": "stdout",
     "output_type": "stream",
     "text": [
      "0.006600624999999999\n",
      "1.2928139034745716\n"
     ]
    }
   ],
   "source": [
    "M=5\n",
    "prod_cos=1\n",
    "prod_exp=1\n",
    "for n in 1:M\n",
    "    prod_cos=prod_cos*((cos(n*pi*0.1))^2+0.1)\n",
    "    prod_exp=prod_exp*sqrt(1+exp(-n))\n",
    "end\n",
    "\n",
    "println(prod_cos)\n",
    "println(prod_exp)"
   ]
  },
  {
   "cell_type": "markdown",
   "metadata": {},
   "source": [
    "# Aufgabe 2"
   ]
  },
  {
   "cell_type": "code",
   "execution_count": 19,
   "metadata": {
    "collapsed": false
   },
   "outputs": [
    {
     "name": "stdout",
     "output_type": "stream",
     "text": [
      "265252859812191058636308480000000\n"
     ]
    }
   ],
   "source": [
    "fac=BigInt(1)\n",
    "n=30\n",
    "for i in 1:n\n",
    "    fac=fac*i\n",
    "end\n",
    "println(fac)"
   ]
  },
  {
   "cell_type": "markdown",
   "metadata": {},
   "source": [
    "\n",
    "# Aufgabe 3"
   ]
  },
  {
   "cell_type": "markdown",
   "metadata": {},
   "source": [
    "a)"
   ]
  },
  {
   "cell_type": "code",
   "execution_count": 41,
   "metadata": {
    "collapsed": false
   },
   "outputs": [
    {
     "name": "stdout",
     "output_type": "stream",
     "text": [
      "36"
     ]
    }
   ],
   "source": [
    "z=[0,0,1,1]\n",
    "L=length(z)\n",
    "sum=0\n",
    "b=3\n",
    "for i in 1:L\n",
    "    sum = sum + z[i]*b^(i-1)\n",
    "end\n",
    "print(sum)"
   ]
  },
  {
   "cell_type": "markdown",
   "metadata": {},
   "source": [
    "alternativ (richtige Reihenfolge):"
   ]
  },
  {
   "cell_type": "code",
   "execution_count": 18,
   "metadata": {
    "collapsed": false
   },
   "outputs": [
    {
     "name": "stdout",
     "output_type": "stream",
     "text": [
      "1176"
     ]
    }
   ],
   "source": [
    "z=[5,2,4,0]\n",
    "L=length(z)\n",
    "sum=0\n",
    "b=6\n",
    "for i in 1:L\n",
    "    sum = sum + z[L+1-i]*b^(i-1)\n",
    "end\n",
    "print(sum)"
   ]
  },
  {
   "cell_type": "markdown",
   "metadata": {},
   "source": [
    "b)"
   ]
  },
  {
   "cell_type": "code",
   "execution_count": 26,
   "metadata": {
    "collapsed": false
   },
   "outputs": [
    {
     "name": "stderr",
     "output_type": "stream",
     "text": [
      "WARNING: Method definition decimal(Any, Any) in module Main at In[19]:2 overwritten at In[26]:2.\n"
     ]
    },
    {
     "data": {
      "text/plain": [
       "decimal (generic function with 1 method)"
      ]
     },
     "execution_count": 26,
     "metadata": {},
     "output_type": "execute_result"
    }
   ],
   "source": [
    "function decimal(z,b)\n",
    "    L=length(z)\n",
    "    sum=0\n",
    "    for i in 1:L\n",
    "        sum=sum+z[L+1-i]*b^(i-1)\n",
    "    end\n",
    "    return sum\n",
    "end"
   ]
  },
  {
   "cell_type": "code",
   "execution_count": 27,
   "metadata": {
    "collapsed": false
   },
   "outputs": [
    {
     "name": "stdout",
     "output_type": "stream",
     "text": [
      "1176\n",
      "140\n",
      "728\n"
     ]
    }
   ],
   "source": [
    "a=decimal([5,2,4,0],6)\n",
    "b=decimal([1,2,0,1,2],3)\n",
    "c=decimal([8,8,8],9)\n",
    "\n",
    "println(a)\n",
    "println(b)\n",
    "println(c)"
   ]
  },
  {
   "cell_type": "markdown",
   "metadata": {},
   "source": [
    "c)"
   ]
  },
  {
   "cell_type": "markdown",
   "metadata": {},
   "source": [
    "2: 11 Stellen\n",
    "3: 7 Stellen\n",
    "4: 6 Stellen\n",
    "5: 5 Stellen\n",
    "6-9: 4 Stellen"
   ]
  },
  {
   "cell_type": "markdown",
   "metadata": {},
   "source": [
    "# Aufgabe 4"
   ]
  },
  {
   "cell_type": "markdown",
   "metadata": {},
   "source": [
    "Zuerst b)"
   ]
  },
  {
   "cell_type": "code",
   "execution_count": 29,
   "metadata": {
    "collapsed": false
   },
   "outputs": [
    {
     "name": "stdout",
     "output_type": "stream",
     "text": [
      "1 0\n",
      "2 0\n",
      "3 0\n",
      "4 1\n",
      "5 0\n",
      "6 1\n",
      "7 0\n",
      "8 1\n",
      "9 1\n",
      "10 1\n"
     ]
    }
   ],
   "source": [
    "N=50\n",
    "p = Array(Int64,N*N)         #Erstellt Array mit 50*50=2500 Plätzen\n",
    "\n",
    "\n",
    "for i in 1:N*N               #Füllt Array mit Nullen\n",
    "    p[i] = 0\n",
    "end\n",
    "\n",
    "for i in 2:N                 #Doppelschleife führt alle Produkte (2,3,...,N)*(2,3,...,N) aus und füllt Stelle i*j mit 1.\n",
    "    for j in 2:N\n",
    "        p[i*j] = 1\n",
    "    end\n",
    "end\n",
    "\n",
    "for i in 1:10              #Gibt ersten 100 Stellen aus\n",
    "    println(i,\" \",p[i])\n",
    "end"
   ]
  },
  {
   "cell_type": "markdown",
   "metadata": {},
   "source": [
    "Programm berechnet/checkt Primzahlen. Ist $p[i*j] = 1$, so wurde der Eintrag über ein Produkt erzeugt, ergo es ist keine Primzahl. Alle Einträge mit $p[i*j] = 1$ sind dementsprechend Primzahlen, da kein Produkt erzeugt werden konnte."
   ]
  },
  {
   "cell_type": "markdown",
   "metadata": {},
   "source": [
    "Nun a). Die Zeile p[i * j]=1 ist in der Doppelschleife und dementsprechend wird sie dort aufgerufen. Die Schleife über j wird (N-1) ausfegührt, somit wird $p[i*j]=1$ dort (N-1) mal ausgeführt. Durch die Schleife über i, welche ebenfalls (N-1) mal ausgeführt wird, wird die GESAMTE j-Schleife (N-1) mal ausgeführt. Dementsprechend wird die Zeile $p[i*j] = 1$ (N-1)^2 mal ausgeführt."
   ]
  },
  {
   "cell_type": "markdown",
   "metadata": {},
   "source": [
    "Um sicher zu gehen, können wir auch einfach im Programm zählen lassen, wie oft $p[i*j] = 1$ ausgeführt wird. Dafür implementieren wir an der selben Stelle einfach den Zählindex $k$:"
   ]
  },
  {
   "cell_type": "code",
   "execution_count": 30,
   "metadata": {
    "collapsed": false
   },
   "outputs": [
    {
     "name": "stdout",
     "output_type": "stream",
     "text": [
      "2401\n"
     ]
    }
   ],
   "source": [
    "N=50\n",
    "p = Array(Int64,N*N)         #Erstellt Array mit 50*50=2500 Plätzen\n",
    "\n",
    "\n",
    "for i in 1:N*N               #Füllt Array mit Nullen\n",
    "    p[i] = 0\n",
    "end\n",
    "\n",
    "k=0\n",
    "for i in 2:N                 #Doppelschleife führt alle Produkte (2,3,...,N)*(2,3,...,N) aus und füllt Stelle i*j mit 1.\n",
    "    for j in 2:N\n",
    "        p[i*j] = 1\n",
    "        k=k+1\n",
    "    end\n",
    "end\n",
    "\n",
    "println(k)"
   ]
  },
  {
   "cell_type": "markdown",
   "metadata": {},
   "source": [
    "Dies entspricht $49*49$."
   ]
  },
  {
   "cell_type": "code",
   "execution_count": null,
   "metadata": {
    "collapsed": true
   },
   "outputs": [],
   "source": []
  }
 ],
 "metadata": {
  "kernelspec": {
   "display_name": "Julia 0.5.1",
   "language": "julia",
   "name": "julia-0.5"
  },
  "language_info": {
   "file_extension": ".jl",
   "mimetype": "application/julia",
   "name": "julia",
   "version": "0.5.1"
  }
 },
 "nbformat": 4,
 "nbformat_minor": 1
}
